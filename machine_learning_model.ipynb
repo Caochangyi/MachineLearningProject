{
 "cells": [
  {
   "cell_type": "code",
   "execution_count": 1,
   "metadata": {},
   "outputs": [],
   "source": [
    "# 引用需要的library\n",
    "import numpy as np\n",
    "import helper\n",
    "import joblib\n",
    "import os\n",
    "import jieba\n",
    "from sklearn.model_selection import train_test_split\n",
    "from sklearn.neighbors import KNeighborsClassifier\n",
    "from sklearn.tree import DecisionTreeClassifier\n",
    "from sklearn.svm import SVC\n",
    "from sklearn.ensemble import RandomForestClassifier\n",
    "from sklearn.ensemble import AdaBoostClassifier\n",
    "from sklearn.ensemble import GradientBoostingClassifier\n",
    "from xgboost import XGBClassifier\n",
    "from lightgbm import LGBMClassifier\n",
    "from matplotlib import pyplot as plt\n",
    "\n",
    "from sklearn.feature_extraction.text import CountVectorizer\n",
    "from sklearn.feature_extraction.text import TfidfVectorizer\n",
    "from sklearn.tree import plot_tree"
   ]
  },
  {
   "cell_type": "code",
   "execution_count": 2,
   "metadata": {},
   "outputs": [
    {
     "name": "stderr",
     "output_type": "stream",
     "text": [
      "Building prefix dict from the default dictionary ...\n",
      "Loading model from cache /var/folders/d6/mm5k9h3n5_924kj876nnys4w0000gn/T/jieba.cache\n",
      "Loading model cost 0.344 seconds.\n",
      "Prefix dict has been built successfully.\n"
     ]
    },
    {
     "name": "stdout",
     "output_type": "stream",
     "text": [
      "(5999, 20595) (5999,)\n",
      "(5999, 20595) (5999,)\n",
      "(5999, 22369) (5999,)\n"
     ]
    }
   ],
   "source": [
    "# 从文本文件中读数据\n",
    "# 读取到的内容\n",
    "# X=评论（string）， y=情感分类（0/1）\n",
    "X = []\n",
    "y = []\n",
    "folder_path = './user_comments'  # 请将此处替换为您的文件夹路径\n",
    "stop_words_path = './stop_words.txt'\n",
    "# 文本向量化\n",
    "vectorizers = [CountVectorizer(), TfidfVectorizer(), helper.OneHotVectorizer()]\n",
    "for vectorizer in vectorizers:\n",
    "    i, j = helper.Read_comments_from_file(folder_path=folder_path, vectorizer=vectorizer, stop_words_path=stop_words_path)\n",
    "    X.append(i)\n",
    "    y.append(j)\n",
    "# X=稀疏矩阵（int），y=情感分类（0/1）\n",
    "\n",
    "print(X[0].shape, y[0].shape)\n",
    "print(X[1].shape, y[1].shape)\n",
    "print(X[2].shape, y[2].shape)"
   ]
  },
  {
   "cell_type": "code",
   "execution_count": 4,
   "metadata": {},
   "outputs": [
    {
     "name": "stdout",
     "output_type": "stream",
     "text": [
      "(KNeighborsClassifier,Counter)(4799), 1.46, 1.44, 0.6066666666666667\n",
      "(DecisionTreeClassifier,Counter)(4799), 8.01, 0.39, 0.825\n",
      "(SVC,Counter)(4799), 232.75, 81.62, 0.6833333333333333\n",
      "(RandomForestClassifier,Counter)(4799), 14.56, 0.51, 0.8775\n",
      "(AdaBoostClassifier,Counter)(4799), 37.23, 1.2, 0.7875\n",
      "(GradientBoostingClassifier,Counter)(4799), 149.96, 0.43, 0.7958333333333333\n",
      "(XGBClassifier,Counter)(4799), 39.72, 0.11, 0.8416666666666667\n",
      "(LGBMClassifier,Counter)(4799), 4.02, 0.1, 0.8541666666666666\n",
      "(KNeighborsClassifier,Tfidf)(4799), 2.71, 1.73, 0.53\n",
      "(DecisionTreeClassifier,Tfidf)(4799), 8.77, 0.6, 0.8266666666666667\n",
      "(SVC,Tfidf)(4799), 233.84, 80.7, 0.7233333333333334\n",
      "(RandomForestClassifier,Tfidf)(4799), 15.95, 0.69, 0.8725\n",
      "(AdaBoostClassifier,Tfidf)(4799), 39.36, 1.44, 0.7825\n",
      "(GradientBoostingClassifier,Tfidf)(4799), 148.84, 0.65, 0.8041666666666667\n",
      "(XGBClassifier,Tfidf)(4799), 37.15, 0.13, 0.8441666666666666\n",
      "(LGBMClassifier,Tfidf)(4799), 5.25, 0.13, 0.845\n",
      "(KNeighborsClassifier,OneHot)(4799), 2.15, 1.33, 0.6025\n",
      "(DecisionTreeClassifier,OneHot)(4799), 7.89, 0.48, 0.8366666666666667\n",
      "(SVC,OneHot)(4799), 249.0, 86.94, 0.7025\n",
      "(RandomForestClassifier,OneHot)(4799), 14.08, 0.5, 0.8708333333333333\n",
      "(AdaBoostClassifier,OneHot)(4799), 41.81, 1.34, 0.7975\n",
      "(GradientBoostingClassifier,OneHot)(4799), 158.51, 0.49, 0.8241666666666667\n",
      "(XGBClassifier,OneHot)(4799), 44.38, 0.1, 0.855\n",
      "(LGBMClassifier,OneHot)(4799), 4.18, 0.1, 0.8575\n",
      "执行结束!!!\n"
     ]
    }
   ],
   "source": [
    "# 产生Dataset对象list\n",
    "data_sets = []\n",
    "data_sets.append(helper.DataSet(X=X[0], y=y[0], vectorizer=\"Counter\"))\n",
    "data_sets.append(helper.DataSet(X=X[1], y=y[1], vectorizer=\"Tfidf\"))\n",
    "data_sets.append(helper.DataSet(X=X[2], y=y[2], vectorizer=\"OneHot\"))\n",
    "\n",
    "\n",
    "all_classification_models = helper.Make_model_classifier()\n",
    "# 构建预测模型列表\n",
    "my_classification_models = []\n",
    "for data_set in data_sets:\n",
    "    for model in all_classification_models:\n",
    "        my_classification_models.append(helper.PredictModel(model, data_set))\n",
    "\n",
    "\n",
    "# 训练 & 预测\n",
    "for model in my_classification_models:\n",
    "    model.fit()\n",
    "    model.predict()\n",
    "    # 打印预测结果\n",
    "    print(f\"({model.model_name},{model.classification_data.vectorizer})({model.X_train_pre.shape[0]}), {model.train_duration}, {model.pred_duration}, {model.get_eval()}\")\n",
    "    model.save()\n",
    "\n",
    "print(\"执行结束!!!\")"
   ]
  },
  {
   "cell_type": "code",
   "execution_count": null,
   "metadata": {},
   "outputs": [],
   "source": []
  },
  {
   "cell_type": "code",
   "execution_count": null,
   "metadata": {},
   "outputs": [],
   "source": [
    "# 柱状图，能够一眼看出各数据的大小，比较数据之间的差别\n",
    "# 打印CountVectorizer的效果对比\n",
    "result_data = helper.Result_analysis(my_classification_models[:8])\n",
    "helper.Plot_analysis(result_data)\n",
    "\n",
    "# 打印TfidfVectorizer的效果对比\n",
    "result_data = helper.Result_analysis(my_classification_models[8:16])\n",
    "helper.Plot_analysis(result_data)\n",
    "\n",
    "# 打印OneHot的效果对比\n",
    "result_data = helper.Result_analysis(my_classification_models[16:24])\n",
    "helper.Plot_analysis(result_data)"
   ]
  },
  {
   "cell_type": "code",
   "execution_count": 6,
   "metadata": {},
   "outputs": [],
   "source": [
    "# TODO\n",
    "# 1. 实现TF-IDF - done\n",
    "# 2. 实现one-hot - done\n",
    "# 3. 对稀疏矩阵的数据预处理：标准化/归一化？PCA降维？\n",
    "# 4. 优化图表显示：显示中文？\n",
    "# 5. 优化调用文本向量化的算法的方式 - done\n",
    "# 6. 过滤掉停用词（传参数给jieba），需要找到合适的停用词列表 - 停用词逻辑已加入\n",
    "# 7. jieba能不能接受专用词列表？\n",
    "# 8. 英文字符串问题，修改去掉空格的方式？- done\n",
    "# 9. 怎么判断是否过拟合？\n",
    "# 10. 怎样优化训练策略和推理策略"
   ]
  }
 ],
 "metadata": {
  "kernelspec": {
   "display_name": "base",
   "language": "python",
   "name": "python3"
  },
  "language_info": {
   "codemirror_mode": {
    "name": "ipython",
    "version": 3
   },
   "file_extension": ".py",
   "mimetype": "text/x-python",
   "name": "python",
   "nbconvert_exporter": "python",
   "pygments_lexer": "ipython3",
   "version": "3.11.5"
  }
 },
 "nbformat": 4,
 "nbformat_minor": 2
}
