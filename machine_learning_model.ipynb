{
 "cells": [
  {
   "cell_type": "code",
   "execution_count": 1,
   "metadata": {},
   "outputs": [],
   "source": [
    "# 引用需要的library\n",
    "import numpy as np\n",
    "import helper\n",
    "import joblib\n",
    "import os\n",
    "import jieba\n",
    "from sklearn.model_selection import train_test_split\n",
    "from sklearn.neighbors import KNeighborsClassifier\n",
    "from sklearn.tree import DecisionTreeClassifier\n",
    "from sklearn.svm import SVC\n",
    "from sklearn.ensemble import RandomForestClassifier\n",
    "from sklearn.ensemble import AdaBoostClassifier\n",
    "from sklearn.ensemble import GradientBoostingClassifier\n",
    "from xgboost import XGBClassifier\n",
    "from lightgbm import LGBMClassifier\n",
    "from matplotlib import pyplot as plt\n",
    "\n",
    "from sklearn.feature_extraction.text import CountVectorizer\n",
    "from sklearn.feature_extraction.text import TfidfVectorizer\n",
    "from sklearn.tree import plot_tree"
   ]
  },
  {
   "cell_type": "code",
   "execution_count": null,
   "metadata": {},
   "outputs": [],
   "source": [
    "# 从文本文件中读数据\n",
    "# 读取到的内容\n",
    "# X=评论（string）， y=情感分类（0/1）\n",
    "folder_path = './user_comments'  # 请将此处替换为您的文件夹路径\n",
    "# 使用CountVectorizer进行文本向量化\n",
    "vectorizer = CountVectorizer()\n",
    "# vectorizer = TfidfVectorizer()\n",
    "# ont-hot\n",
    "X, y = helper.Read_comments_from_file(folder_path=folder_path, vectorizer=vectorizer)\n",
    "# X=稀疏矩阵（int），y=情感分类（0/1）\n"
   ]
  },
  {
   "cell_type": "code",
   "execution_count": 3,
   "metadata": {},
   "outputs": [
    {
     "name": "stdout",
     "output_type": "stream",
     "text": [
      "KNeighborsClassifier(4611), 0.15, 1.03, 0.6287944492627927\n",
      "DecisionTreeClassifier(4611), 5.03, 0.05, 0.834345186470078\n",
      "SVC(4611), 213.82, 73.77, 0.6964440589765828\n",
      "RandomForestClassifier(4611), 9.41, 0.11, 0.8959236773633998\n",
      "AdaBoostClassifier(4611), 34.19, 0.78, 0.8143972246313964\n",
      "GradientBoostingClassifier(4611), 136.73, 0.05, 0.834345186470078\n",
      "XGBClassifier(4611), 32.71, 0.09, 0.8898525585429314\n",
      "LGBMClassifier(4611), 2.72, 0.05, 0.8985255854293148\n",
      "执行结束!!!\n"
     ]
    }
   ],
   "source": [
    "data_set = helper.DataSet(sample_count=X.size, X=X, y=y)\n",
    "all_classification_models = helper.Make_model_classifier()\n",
    "# 构建预测模型列表\n",
    "my_classification_models = []\n",
    "\n",
    "for model in all_classification_models:\n",
    "    my_classification_models.append(helper.PredictModel(model, data_set))\n",
    "\n",
    "# 训练 & 预测\n",
    "for model in my_classification_models:\n",
    "    model.fit()\n",
    "    model.predict()\n",
    "    # 打印预测结果\n",
    "    print(f\"{model.model_name}({model.X_train_pre.shape[0]}), {model.train_duration}, {model.pred_duration}, {model.get_eval()}\")\n",
    "    model.save()\n",
    "\n",
    "print(\"执行结束!!!\")"
   ]
  },
  {
   "cell_type": "code",
   "execution_count": null,
   "metadata": {},
   "outputs": [],
   "source": []
  },
  {
   "cell_type": "code",
   "execution_count": null,
   "metadata": {},
   "outputs": [],
   "source": [
    "# 柱状图，能够一眼看出各数据的大小，比较数据之间的差别\n",
    "result_data = helper.Result_analysis(my_classification_models)\n",
    "helper.Plot_analysis(result_data)"
   ]
  },
  {
   "cell_type": "code",
   "execution_count": 5,
   "metadata": {},
   "outputs": [],
   "source": [
    "# TODO\n",
    "# 1. 实现TF-IDF，one-hot\n",
    "# 2. 对稀疏矩阵的数据预处理：标准化/归一化？PCA降维？\n",
    "# 3. 优化图表显示：显示中文？\n",
    "# 4. 优化调用文本向量话的算法的方式？\n",
    "# 5. 过滤掉停用词（传参数给jieba），需要找到合适的停用词列表；英文字符串问题，修改去掉空格的方式；jieba能不能接受专用词列表\n",
    "# 6. 怎么判断是否过拟合？\n",
    "# 7. 怎样优化训练策略和推理策略"
   ]
  }
 ],
 "metadata": {
  "kernelspec": {
   "display_name": "base",
   "language": "python",
   "name": "python3"
  },
  "language_info": {
   "codemirror_mode": {
    "name": "ipython",
    "version": 3
   },
   "file_extension": ".py",
   "mimetype": "text/x-python",
   "name": "python",
   "nbconvert_exporter": "python",
   "pygments_lexer": "ipython3",
   "version": "3.11.5"
  }
 },
 "nbformat": 4,
 "nbformat_minor": 2
}
