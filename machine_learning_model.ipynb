{
 "cells": [
  {
   "cell_type": "code",
   "execution_count": 9,
   "metadata": {},
   "outputs": [],
   "source": [
    "# 引用需要的library\n",
    "import numpy as np\n",
    "from sklearn.model_selection import train_test_split\n",
    "from sklearn.neighbors import KNeighborsClassifier\n",
    "from sklearn.tree import DecisionTreeClassifier\n",
    "from sklearn.svm import SVC\n",
    "from sklearn.ensemble import RandomForestClassifier\n",
    "from sklearn.ensemble import AdaBoostClassifier\n",
    "from sklearn.ensemble import GradientBoostingClassifier\n",
    "from xgboost import XGBClassifier\n",
    "from lightgbm import LGBMClassifier\n",
    "from matplotlib import pyplot as plt\n",
    "import helper"
   ]
  },
  {
   "cell_type": "code",
   "execution_count": 31,
   "metadata": {},
   "outputs": [],
   "source": [
    "# 从文本文件中读数据\n",
    "# 读取到的内容\n",
    "# X=评论（string）， y=情感分类（0/1）\n",
    "\n",
    "import os\n",
    "import jieba\n",
    "from sklearn.feature_extraction.text import CountVectorizer\n",
    "from sklearn.model_selection import train_test_split\n",
    "folder_path = './user_comments'  # 请将此处替换为您的文件夹路径\n",
    "X = []\n",
    "y = []\n",
    "# 使用CountVectorizer进行文本向量化\n",
    "vectorizer = CountVectorizer()\n",
    "for root, dirs, files in os.walk(folder_path):\n",
    "    for dir in dirs:\n",
    "        if dir == 'neg':\n",
    "            label = 0\n",
    "        elif dir == 'pos':\n",
    "            label = 1\n",
    "        else:\n",
    "            continue\n",
    "        for file in os.listdir(os.path.join(folder_path, dir)):\n",
    "            if file.endswith('.txt'):\n",
    "                file_path = os.path.join(folder_path, dir, file)\n",
    "                with open(file_path, 'r', encoding='gb2312',errors='ignore') as f:\n",
    "                    content = f.read()\n",
    "                    content = content.strip().replace(\" \", \"\")\n",
    "                    if content == \"\": break\n",
    "                # 使用jieba进行分词\n",
    "                words = ' '.join(jieba.cut(content))\n",
    "                X.append(words)\n",
    "                y.append(label)\n",
    "\n",
    "X=np.array(X)\n",
    "y=np.array(y)\n",
    "# print(X.shape)\n",
    "# (4905,)\n",
    "\n",
    "X = vectorizer.fit_transform(X)\n",
    "\n",
    "# 打印转化为词向量的X数据，是一个稀疏的矩阵(4905, 18300)\n",
    "# print(X.toarray())\n",
    "# print(X.shape)\n",
    "\n",
    "# voca = vectorizer.vocabulary_\n",
    "# print(voca)\n",
    "# vocabulary dict\n",
    "\n",
    "# 对dict重新排序，按照value的顺序打印dict\n",
    "# voca=sorted(voca.items(), key=lambda x: x[1])\n",
    "# for item in voca:\n",
    "#     print(item)\n",
    "\n",
    "\n",
    "\n",
    "\n",
    "\n",
    "X_train, X_test, y_train, y_test = train_test_split(X, y, test_size=0.2, random_state=42)\n"
   ]
  },
  {
   "cell_type": "code",
   "execution_count": null,
   "metadata": {},
   "outputs": [],
   "source": [
    "# 调用jieba分词\n",
    "# 文本向量化：1. 类one-hot编码 2. count思想 3. tf-idf思想\n",
    "# 返回 X=评论向量（list），y=情感分类（0/1）"
   ]
  },
  {
   "cell_type": "code",
   "execution_count": null,
   "metadata": {},
   "outputs": [],
   "source": [
    "# 切分数据集为X_train, y_train, X_test, y_test\n"
   ]
  },
  {
   "cell_type": "code",
   "execution_count": null,
   "metadata": {},
   "outputs": [],
   "source": [
    "# 数据预处理：标准化/归一化"
   ]
  },
  {
   "cell_type": "code",
   "execution_count": null,
   "metadata": {},
   "outputs": [],
   "source": [
    "# 调用各分类模型，训练\n",
    "# KNeighborsClassifier\n",
    "# DecisionTreeClassifier\n",
    "# SVC\n",
    "# RandomForestClassifier\n",
    "# AdaBoostClassifier\n",
    "# GradientBoostingClassifier\n",
    "# XGBClassifier\n",
    "# LGBMClassifier"
   ]
  },
  {
   "cell_type": "code",
   "execution_count": null,
   "metadata": {},
   "outputs": [],
   "source": [
    "# 调用训练完毕的模型，做预测"
   ]
  },
  {
   "cell_type": "code",
   "execution_count": null,
   "metadata": {},
   "outputs": [],
   "source": [
    "# 计算各模型的acc，训练时间，预测时间"
   ]
  },
  {
   "cell_type": "code",
   "execution_count": null,
   "metadata": {},
   "outputs": [],
   "source": [
    "# 保存模型到models文件夹"
   ]
  }
 ],
 "metadata": {
  "kernelspec": {
   "display_name": "base",
   "language": "python",
   "name": "python3"
  },
  "language_info": {
   "codemirror_mode": {
    "name": "ipython",
    "version": 3
   },
   "file_extension": ".py",
   "mimetype": "text/x-python",
   "name": "python",
   "nbconvert_exporter": "python",
   "pygments_lexer": "ipython3",
   "version": "3.11.5"
  }
 },
 "nbformat": 4,
 "nbformat_minor": 2
}
